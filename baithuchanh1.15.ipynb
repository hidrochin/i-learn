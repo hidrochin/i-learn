{
 "cells": [
  {
   "cell_type": "code",
   "execution_count": 1,
   "metadata": {},
   "outputs": [],
   "source": [
    "#Nguyễn Hà Phú Thịnh - 20205131\n",
    "import numpy as np\n",
    "import matplotlib.pyplot as plt\n",
    "import math"
   ]
  },
  {
   "cell_type": "markdown",
   "metadata": {},
   "source": [
    "# a Fs = 5000 và F0 = 500"
   ]
  },
  {
   "cell_type": "code",
   "execution_count": null,
   "metadata": {},
   "outputs": [],
   "source": [
    "F0 = 500\n",
    "Fs = 5000\n",
    "N = 100"
   ]
  },
  {
   "cell_type": "code",
   "execution_count": null,
   "metadata": {},
   "outputs": [],
   "source": [
    "n = np.arange(N)\n",
    "print(n)"
   ]
  },
  {
   "cell_type": "code",
   "execution_count": null,
   "metadata": {},
   "outputs": [],
   "source": [
    "xn = np.sin(2 * math.pi * F0 * n / Fs)"
   ]
  },
  {
   "cell_type": "code",
   "execution_count": null,
   "metadata": {},
   "outputs": [],
   "source": [
    "fig, (ax1, ax2) = plt.subplots(1,2, figsize=(14,4), sharey=True, dpi=90)\n",
    "t = n / Fs\n",
    "ypoints = np.array(xn)\n",
    "ax1.plot(ypoints,'. r')                                ;ax2.plot(t, xn)\n",
    "ax1.set_title(\"Tín Hiệu Hình Sin Với F0=500Hz theo n\") ;ax2.set_title(\"Tín Hiệu Hình Sin Với F0=500Hz theo t \")\n",
    "ax1.set_ylabel(\"xn\")                                   ;ax2.set_ylabel(\"xn\")\n",
    "ax1.set_xlabel(\"n\")                                    ;ax2.set_xlabel(\"trục thời gian t (s)\")\n",
    "plt.show()"
   ]
  },
  {
   "cell_type": "markdown",
   "metadata": {},
   "source": [
    "# Fs = 5000 và  F0 = 2000"
   ]
  },
  {
   "cell_type": "code",
   "execution_count": null,
   "metadata": {},
   "outputs": [],
   "source": [
    "F0 = 2000"
   ]
  },
  {
   "cell_type": "code",
   "execution_count": null,
   "metadata": {},
   "outputs": [],
   "source": [
    "xn = np.sin(2 * math.pi * F0 * n / Fs)"
   ]
  },
  {
   "cell_type": "code",
   "execution_count": null,
   "metadata": {},
   "outputs": [],
   "source": [
    "fig, (ax1, ax2) = plt.subplots(1,2, figsize=(14,4), sharey=True, dpi=90)\n",
    "t = n / Fs\n",
    "ypoints = np.array(xn)\n",
    "ax1.plot(ypoints,'. r')                                ;ax2.plot(t, xn)\n",
    "ax1.set_title(\"Tín Hiệu Hình Sin Với F0=2000Hz theo n\") ;ax2.set_title(\"Tín Hiệu Hình Sin Với F0=2000Hz theo t \")\n",
    "ax1.set_ylabel(\"xn\")                                   ;ax2.set_ylabel(\"xn\")\n",
    "ax1.set_xlabel(\"n\")                                    ;ax2.set_xlabel(\"trục thời gian t (s)\")\n",
    "plt.show()"
   ]
  },
  {
   "cell_type": "markdown",
   "metadata": {},
   "source": [
    "# Fs = 5000 và  F0 = 3000"
   ]
  },
  {
   "cell_type": "code",
   "execution_count": null,
   "metadata": {},
   "outputs": [],
   "source": [
    "F0 = 3000"
   ]
  },
  {
   "cell_type": "code",
   "execution_count": null,
   "metadata": {},
   "outputs": [],
   "source": [
    "xn = np.sin(2 * math.pi * F0 * n / Fs)"
   ]
  },
  {
   "cell_type": "code",
   "execution_count": null,
   "metadata": {},
   "outputs": [],
   "source": [
    "fig, (ax1, ax2) = plt.subplots(1,2, figsize=(14,4), sharey=True, dpi=90)\n",
    "t = n / Fs\n",
    "ypoints = np.array(xn)\n",
    "ax1.plot(ypoints,'. r')                                ;ax2.plot(t, xn)\n",
    "ax1.set_title(\"Tín Hiệu Hình Sin Với F0=3000Hz theo n\") ;ax2.set_title(\"Tín Hiệu Hình Sin Với F0=3000Hz theo t \")\n",
    "ax1.set_ylabel(\"xn\")                                   ;ax2.set_ylabel(\"xn\")\n",
    "ax1.set_xlabel(\"n\")                                    ;ax2.set_xlabel(\"trục thời gian t (s)\")\n",
    "plt.show()"
   ]
  },
  {
   "cell_type": "markdown",
   "metadata": {},
   "source": [
    "# Fs = 5000 và  F0 = 4500"
   ]
  },
  {
   "cell_type": "code",
   "execution_count": null,
   "metadata": {},
   "outputs": [],
   "source": [
    "F0 = 4500"
   ]
  },
  {
   "cell_type": "code",
   "execution_count": null,
   "metadata": {},
   "outputs": [],
   "source": [
    "xn = np.sin(2 * math.pi * F0 * n / Fs)"
   ]
  },
  {
   "cell_type": "code",
   "execution_count": null,
   "metadata": {},
   "outputs": [],
   "source": [
    "fig, (ax1, ax2) = plt.subplots(1,2, figsize=(14,4), sharey=True, dpi=90)\n",
    "t = n / Fs\n",
    "ypoints = np.array(xn)\n",
    "ax1.plot(ypoints,'. r')                                ;ax2.plot(t, xn)\n",
    "ax1.set_title(\"Tín Hiệu Hình Sin Với F0=4500Hz theo n\") ;ax2.set_title(\"Tín Hiệu Hình Sin Với F0=4500Hz theo t \")\n",
    "ax1.set_ylabel(\"xn\")                                   ;ax2.set_ylabel(\"xn\")\n",
    "ax1.set_xlabel(\"n\")                                    ;ax2.set_xlabel(\"trục thời gian t (s)\")\n",
    "plt.show()"
   ]
  },
  {
   "cell_type": "markdown",
   "metadata": {},
   "source": [
    "# b: 1) F0 = 2000 Hz và Fs = 50000 Hz"
   ]
  },
  {
   "cell_type": "code",
   "execution_count": null,
   "metadata": {},
   "outputs": [],
   "source": [
    "F0 = 2000\n",
    "Fs = 50000"
   ]
  },
  {
   "cell_type": "code",
   "execution_count": null,
   "metadata": {},
   "outputs": [],
   "source": [
    "xn = np.sin(2 * math.pi * F0 * n / Fs)"
   ]
  },
  {
   "cell_type": "code",
   "execution_count": null,
   "metadata": {},
   "outputs": [],
   "source": [
    "fig, (ax1, ax2) = plt.subplots(1,2, figsize=(14,4), sharey=True, dpi=90)\n",
    "t = n / Fs\n",
    "ypoints = np.array(xn)\n",
    "ax1.plot(ypoints,'. r')                                ;ax2.plot(t, xn)\n",
    "ax1.set_title(\"Tín Hiệu Hình Sin Với F0=50000Hz theo n\") ;ax2.set_title(\"Tín Hiệu Hình Sin Với F0=50000Hz theo t \")\n",
    "ax1.set_ylabel(\"xn\")                                   ;ax2.set_ylabel(\"xn\")\n",
    "ax1.set_xlabel(\"n\")                                    ;ax2.set_xlabel(\"trục thời gian t (s)\")\n",
    "plt.show()"
   ]
  },
  {
   "cell_type": "markdown",
   "metadata": {},
   "source": [
    "# b: 2) F0 = 2000 Hz và Fs = 50000 Hz"
   ]
  },
  {
   "cell_type": "code",
   "execution_count": null,
   "metadata": {},
   "outputs": [],
   "source": [
    "F0 = 2000\n",
    "Fs = 50000\n",
    "M = 50\n",
    "m = np.arange(M)"
   ]
  },
  {
   "cell_type": "code",
   "execution_count": null,
   "metadata": {},
   "outputs": [],
   "source": [
    "xn = np.sin(2 * math.pi * F0 * 2 * m / Fs)"
   ]
  },
  {
   "cell_type": "code",
   "execution_count": 21,
   "metadata": {},
   "outputs": [
    {
     "data": {
      "image/png": "[encoded data removed]",
      "text/plain": [
       "<Figure size 1260x360 with 2 Axes>"
      ]
     },
     "metadata": {
      "needs_background": "light"
     },
     "output_type": "display_data"
    }
   ],
   "source": [
    "fig, (ax1, ax2) = plt.subplots(1,2, figsize=(14,4), sharey=True, dpi=90)\n",
    "t = m /(Fs)\n",
    "ypoints = np.array(xn)\n",
    "ax1.plot(ypoints, '. r')                               ;ax2.plot(t, xn)\n",
    "ax1.set_title(\"Tín Hiệu Hình Sin theo n\")              ;ax2.set_title(\"Tín Hiệu Hình Sin theo t \")\n",
    "ax1.set_ylabel(\"xn\")                                   ;ax2.set_ylabel(\"xn\")\n",
    "ax1.set_xlabel(\"n\")                                    ;ax2.set_xlabel(\"trục thời gian t (s)\")\n",
    "plt.show()"
   ]
  },
  {
   "cell_type": "code",
   "execution_count": null,
   "metadata": {},
   "outputs": [],
   "source": []
  },
  {
   "cell_type": "code",
   "execution_count": null,
   "metadata": {},
   "outputs": [],
   "source": []
  }
 ],
 "metadata": {
  "interpreter": {
   "hash": "b280a8e851adcd8bb171629d8dcdb26835ae882049d58af29b7152cbc7fba4a5"
  },
  "kernelspec": {
   "display_name": "Python 3.9.6 64-bit",
   "name": "python3"
  },
  "language_info": {
   "codemirror_mode": {
    "name": "ipython",
    "version": 3
   },
   "file_extension": ".py",
   "mimetype": "text/x-python",
   "name": "python",
   "nbconvert_exporter": "python",
   "pygments_lexer": "ipython3",
   "version": "3.9.6"
  },
  "orig_nbformat": 4
 },
 "nbformat": 4,
 "nbformat_minor": 2
}
